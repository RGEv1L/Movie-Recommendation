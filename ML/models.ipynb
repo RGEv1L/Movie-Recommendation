{
 "cells": [
  {
   "cell_type": "code",
   "execution_count": 1,
   "metadata": {},
   "outputs": [],
   "source": [
    "#PySpark Dynamodb fetch \"FindMyMovie\" personality records.\n",
    "try:\n",
    "    spark.stop()\n",
    "except:\n",
    "    print(\"No Session\")\n",
    "#Starting PySpark Session\n",
    "from pyspark.sql import SparkSession\n",
    "\n",
    "spark=SparkSession.builder.appName('RS')\\\n",
    "    .master(\"spark://192.168.1.100:7077\") \\\n",
    "    .config('spark.executor.memory','4600m') \\\n",
    "    .getOrCreate()   \n",
    "\n",
    "#Required imports other than SPARK main\n",
    "import csv\n",
    "import json\n",
    "import numpy as np\n",
    "from pyspark.sql.functions import udf\n",
    "from pyspark import SparkContext\n",
    "from pyspark.sql.types import StringType ,IntegerType"
   ]
  },
  {
   "cell_type": "code",
   "execution_count": 31,
   "metadata": {},
   "outputs": [
    {
     "name": "stdout",
     "output_type": "stream",
     "text": [
      "(1926, 6)\n",
      "root\n",
      " |-- userID: string (nullable = true)\n",
      " |-- EXT: integer (nullable = true)\n",
      " |-- AGG: integer (nullable = true)\n",
      " |-- CON: integer (nullable = true)\n",
      " |-- NEU: integer (nullable = true)\n",
      " |-- OPN: integer (nullable = true)\n",
      "\n"
     ]
    }
   ],
   "source": [
    "#Importing Segregation logic by introducing K-Means Clustering!\n",
    "df_K=spark.read.csv('/root/datasets/FYP/O/agg/all_scores.csv',inferSchema=True,header=True)\n",
    "print((df_K.count(), len(df_K.columns)))\n",
    "df_K.printSchema()"
   ]
  },
  {
   "cell_type": "code",
   "execution_count": 32,
   "metadata": {},
   "outputs": [
    {
     "data": {
      "text/plain": [
       "DataFrame[userID: string, EXT: int, AGG: int, CON: int, NEU: int, OPN: int, features: vector]"
      ]
     },
     "execution_count": 32,
     "metadata": {},
     "output_type": "execute_result"
    }
   ],
   "source": [
    "#Mapping Features to spark vector assembler.\n",
    "from pyspark.ml.linalg import Vector\n",
    "from pyspark.ml.feature import VectorAssembler\n",
    "\n",
    "vec = ['EXT', 'AGG', 'CON', 'NEU','OPN']\n",
    "vec_assembler = VectorAssembler(inputCols = vec,outputCol='features')\n",
    "opt = vec_assembler.transform(df_K)\n",
    "opt.cache()\n"
   ]
  },
  {
   "cell_type": "code",
   "execution_count": 33,
   "metadata": {},
   "outputs": [],
   "source": [
    "from pyspark.ml.clustering import KMeans\n",
    "from pyspark.ml.evaluation import ClusteringEvaluator"
   ]
  },
  {
   "cell_type": "code",
   "execution_count": 34,
   "metadata": {},
   "outputs": [
    {
     "name": "stdout",
     "output_type": "stream",
     "text": [
      "Clusters  2\n",
      "Silhouette with squared euclidean distance = 0.3000277371879069\n",
      "Cluster Centers: \n",
      "[78.77754892 62.90422245 46.31822863 65.8661174  67.59217302]\n",
      "[72.4513089  57.78219895 46.06492147 66.13298429 32.68900524]\n",
      "\n",
      "\n",
      "Clusters  3\n",
      "Silhouette with squared euclidean distance = 0.2961942627197221\n",
      "Cluster Centers: \n",
      "[70.82034976 55.0190779  55.69475358 59.78537361 31.51033386]\n",
      "[76.17161716 61.4669967  58.46039604 59.7310231  68.98184818]\n",
      "[79.56295224 64.2633864  26.78437048 77.15050651 50.97973951]\n",
      "\n",
      "\n",
      "Clusters  4\n",
      "Silhouette with squared euclidean distance = 0.28511763967206716\n",
      "Cluster Centers: \n",
      "[74.64027149 61.50678733 64.88235294 64.08597285 67.98868778]\n",
      "[71.38030888 60.23552124 32.88223938 77.77606178 32.96911197]\n",
      "[74.06471816 54.93319415 60.55114823 51.97703549 34.75156576]\n",
      "[82.63039014 64.80698152 29.26488706 68.99794661 67.91581109]\n",
      "\n",
      "\n",
      "Clusters  5\n",
      "Silhouette with squared euclidean distance = 0.274046182529419\n",
      "Cluster Centers: \n",
      "[70.86031746 49.24126984 54.2952381  80.13015873 35.84126984]\n",
      "[74.82291667 55.68489583 57.74479167 45.671875   36.5234375 ]\n",
      "[83.0021645  64.61038961 30.14718615 71.74891775 69.41774892]\n",
      "[73.98997494 62.33082707 65.26566416 60.54636591 68.78696742]\n",
      "[73.12021858 67.3442623  26.56010929 73.84699454 32.83606557]\n",
      "\n",
      "\n",
      "Clusters  6\n",
      "Silhouette with squared euclidean distance = 0.2705567651405644\n",
      "Cluster Centers: \n",
      "[79.3969697  48.18787879 30.72727273 78.93333333 39.85151515]\n",
      "[66.62633452 74.53380783 34.00711744 71.16370107 31.36298932]\n",
      "[83.80555556 71.30208333 28.26736111 76.83333333 71.94444444]\n",
      "[71.74666667 61.496      63.696      69.74933333 66.30133333]\n",
      "[72.14361702 52.92819149 64.19148936 55.5106383  31.1037234 ]\n",
      "[81.86231884 57.67753623 47.49275362 43.15942029 63.79710145]\n",
      "\n",
      "\n"
     ]
    }
   ],
   "source": [
    "k = 2\n",
    "for k in range (2,7):\n",
    "    print('Clusters ',k)\n",
    "    # Trains a k-means model.\n",
    "    kmeans = KMeans().setK(k).setSeed(1)\n",
    "    model = kmeans.fit(opt)\n",
    "\n",
    "    # Make predictions\n",
    "    predictions = model.transform(opt)\n",
    "\n",
    "    # Evaluate clustering by computing Silhouette score\n",
    "    evaluator = ClusteringEvaluator()\n",
    "\n",
    "    silhouette = evaluator.evaluate(predictions)\n",
    "    print(\"Silhouette with squared euclidean distance = \" + str(silhouette))\n",
    "\n",
    "    # Shows the result.\n",
    "    centers = model.clusterCenters()\n",
    "    print(\"Cluster Centers: \")\n",
    "    for center in centers:\n",
    "        print(center)\n",
    "    print('\\n')\n",
    "    k = k + 1"
   ]
  },
  {
   "cell_type": "code",
   "execution_count": 167,
   "metadata": {},
   "outputs": [
    {
     "name": "stdout",
     "output_type": "stream",
     "text": [
      "Clusters  3\n",
      "Silhouette with squared euclidean distance = 0.2961942627197221\n",
      "Cluster Centers: \n",
      "[70.82034976 55.0190779  55.69475358 59.78537361 31.51033386]\n",
      "[76.17161716 61.4669967  58.46039604 59.7310231  68.98184818]\n",
      "[79.56295224 64.2633864  26.78437048 77.15050651 50.97973951]\n",
      "\n",
      "\n"
     ]
    }
   ],
   "source": [
    "k = 3\n",
    "print('Clusters ',k)\n",
    "# Trains a k-means model.\n",
    "kmeans = KMeans().setK(k).setSeed(1)\n",
    "model = kmeans.fit(opt)\n",
    "\n",
    "# Make predictions\n",
    "predictions = model.transform(opt)\n",
    "\n",
    "# Evaluate clustering by computing Silhouette score\n",
    "evaluator = ClusteringEvaluator()\n",
    "\n",
    "silhouette = evaluator.evaluate(predictions)\n",
    "print(\"Silhouette with squared euclidean distance = \" + str(silhouette))\n",
    "\n",
    "# Shows the result.\n",
    "centers = model.clusterCenters()\n",
    "print(\"Cluster Centers: \")\n",
    "for center in centers:\n",
    "    print(center)\n",
    "print('\\n')"
   ]
  },
  {
   "cell_type": "code",
   "execution_count": 196,
   "metadata": {},
   "outputs": [
    {
     "name": "stdout",
     "output_type": "stream",
     "text": [
      "+-----------------+-----------------+------------------+-----------------+------------------+\n",
      "|         avg(EXT)|         avg(AGG)|          avg(CON)|         avg(NEU)|          avg(OPN)|\n",
      "+-----------------+-----------------+------------------+-----------------+------------------+\n",
      "|75.64070612668743|60.36448598130841|46.192627206645895|65.99844236760124|50.285565939771544|\n",
      "+-----------------+-----------------+------------------+-----------------+------------------+\n",
      "\n"
     ]
    }
   ],
   "source": [
    "stats=opt.agg(avg(\"EXT\"),avg(\"AGG\"),avg(\"CON\"),avg(\"NEU\"),avg(\"OPN\") ).collect()\n",
    "opt.agg(avg(\"EXT\"),avg(\"AGG\"),avg(\"CON\"),avg(\"NEU\"),avg(\"OPN\") ).show()\n",
    "\n",
    "avg_ext = stats[0][0]\n",
    "avg_opn = stats[0][1]\n",
    "avg_con = stats[0][2]\n",
    "avg_agg = stats[0][3]\n",
    "avg_neu = stats[0][4]"
   ]
  },
  {
   "cell_type": "code",
   "execution_count": 168,
   "metadata": {},
   "outputs": [
    {
     "data": {
      "text/plain": [
       "2"
      ]
     },
     "execution_count": 168,
     "metadata": {},
     "output_type": "execute_result"
    }
   ],
   "source": [
    "from pyspark.ml.linalg import Vectors\n",
    "vr = Vectors.dense([90.0, 90.0, 20.0,90.2,60.0])\n",
    "model.predict(vr)"
   ]
  },
  {
   "cell_type": "code",
   "execution_count": 133,
   "metadata": {},
   "outputs": [
    {
     "data": {
      "text/plain": [
       "[Row(userID='05c3cb1b8a8178cede7f670072ae074c', EXT=71, AGG=35, CON=14, NEU=85, OPN=28, features=DenseVector([71.0, 35.0, 14.0, 85.0, 28.0]), prediction=1),\n",
       " Row(userID='8d97cf10d1b93ed2309d00749dff1bde', EXT=78, AGG=71, CON=42, NEU=64, OPN=35, features=DenseVector([78.0, 71.0, 42.0, 64.0, 35.0]), prediction=1),\n",
       " Row(userID='a93c70e19a3472093e8216ef5d9a6746', EXT=85, AGG=85, CON=28, NEU=71, OPN=85, features=DenseVector([85.0, 85.0, 28.0, 71.0, 85.0]), prediction=3),\n",
       " Row(userID='ff8b293ae258fe516c39acecb966dba4', EXT=64, AGG=78, CON=14, NEU=78, OPN=28, features=DenseVector([64.0, 78.0, 14.0, 78.0, 28.0]), prediction=1),\n",
       " Row(userID='15ea063907f4e038ed6465286e6804b4', EXT=71, AGG=57, CON=57, NEU=50, OPN=42, features=DenseVector([71.0, 57.0, 57.0, 50.0, 42.0]), prediction=2),\n",
       " Row(userID='cff910b71f09b3120289ff6b461a9e03', EXT=78, AGG=50, CON=71, NEU=57, OPN=78, features=DenseVector([78.0, 50.0, 71.0, 57.0, 78.0]), prediction=0),\n",
       " Row(userID='1ab3a4c2921d8da640854819b0f6cfce', EXT=57, AGG=50, CON=42, NEU=57, OPN=35, features=DenseVector([57.0, 50.0, 42.0, 57.0, 35.0]), prediction=2),\n",
       " Row(userID='a06386edadf3bc614dadb7044708c46c', EXT=85, AGG=42, CON=28, NEU=50, OPN=85, features=DenseVector([85.0, 42.0, 28.0, 50.0, 85.0]), prediction=3),\n",
       " Row(userID='bad56d9506832cd79d874a6b66b3d813', EXT=71, AGG=50, CON=85, NEU=50, OPN=35, features=DenseVector([71.0, 50.0, 85.0, 50.0, 35.0]), prediction=2),\n",
       " Row(userID='721ea658e148fc0f76ddd6e2b0e02422', EXT=92, AGG=92, CON=71, NEU=92, OPN=28, features=DenseVector([92.0, 92.0, 71.0, 92.0, 28.0]), prediction=1)]"
      ]
     },
     "execution_count": 133,
     "metadata": {},
     "output_type": "execute_result"
    }
   ],
   "source": [
    "predictions.tail(10)"
   ]
  },
  {
   "cell_type": "code",
   "execution_count": 169,
   "metadata": {},
   "outputs": [
    {
     "name": "stdout",
     "output_type": "stream",
     "text": [
      "+----------+-----+\n",
      "|prediction|count|\n",
      "+----------+-----+\n",
      "|         0|  628|\n",
      "|         1|  606|\n",
      "|         2|  692|\n",
      "+----------+-----+\n",
      "\n"
     ]
    }
   ],
   "source": [
    "temp=predictions.groupBy(\"prediction\").count()\n",
    "temp.orderBy('prediction').show()"
   ]
  },
  {
   "cell_type": "code",
   "execution_count": 188,
   "metadata": {},
   "outputs": [],
   "source": [
    "main = predictions.withColumn(\"prediction\", predictions[\"prediction\"].cast(\"string\"))\n",
    "c_0 = main.filter(main.prediction == '0')\n",
    "c_0 = c_0.select('userID','prediction')\n",
    "c_1= main.filter(main.prediction == '1')\n",
    "c_1 = c_1.select('userID','prediction')\n",
    "c_2 = main.filter(main.prediction == '2')\n",
    "c_2 = c_2.select('userID','prediction')\n"
   ]
  },
  {
   "cell_type": "code",
   "execution_count": 193,
   "metadata": {},
   "outputs": [
    {
     "name": "stdout",
     "output_type": "stream",
     "text": [
      "+--------------------+----------+\n",
      "|              userID|prediction|\n",
      "+--------------------+----------+\n",
      "|b7e8a92987a530cc3...|         0|\n",
      "|030001ac2145a938b...|         0|\n",
      "+--------------------+----------+\n",
      "only showing top 2 rows\n",
      "\n"
     ]
    }
   ],
   "source": [
    "c_0.show(2)\n",
    "\n",
    "#Saving Clusters\n",
    "c_0 \\\n",
    "   .repartition(1) \\\n",
    "   .write.format(\"com.databricks.spark.csv\") \\\n",
    "   .option(\"header\", \"true\")  \\\n",
    "   .save(\"/root/datasets/FYP/O/agg/c_0\")\n",
    "\n",
    "c_1 \\\n",
    "   .repartition(1) \\\n",
    "   .write.format(\"com.databricks.spark.csv\") \\\n",
    "   .option(\"header\", \"true\")  \\\n",
    "   .save(\"/root/datasets/FYP/O/agg/c_1\")\n",
    "\n",
    "c_2 \\\n",
    "   .repartition(1) \\\n",
    "   .write.format(\"com.databricks.spark.csv\") \\\n",
    "   .option(\"header\", \"true\")  \\\n",
    "   .save(\"/root/datasets/FYP/O/agg/c_2\")\n",
    "\n"
   ]
  },
  {
   "cell_type": "code",
   "execution_count": 170,
   "metadata": {},
   "outputs": [
    {
     "name": "stdout",
     "output_type": "stream",
     "text": [
      "+----------+-----------------+------------------+------------------+------------------+------------------+\n",
      "|prediction|         avg(EXT)|          avg(AGG)|          avg(CON)|          avg(NEU)|          avg(OPN)|\n",
      "+----------+-----------------+------------------+------------------+------------------+------------------+\n",
      "|         0|70.84235668789809|55.017515923566876|55.968152866242036|59.605095541401276|31.644904458598727|\n",
      "|         1|76.18316831683168|61.585808580858085| 58.26897689768977| 59.95544554455446| 69.16666666666667|\n",
      "|         2|79.52023121387283| 64.14739884393063|26.745664739884393| 77.09248554913295| 50.66763005780347|\n",
      "+----------+-----------------+------------------+------------------+------------------+------------------+\n",
      "\n"
     ]
    }
   ],
   "source": [
    "predictions.groupBy(\"prediction\").agg(avg(\"EXT\"),avg(\"AGG\"),avg(\"CON\"),avg(\"NEU\"),avg(\"OPN\") ).orderBy(\"prediction\").show(10)"
   ]
  },
  {
   "cell_type": "code",
   "execution_count": null,
   "metadata": {},
   "outputs": [],
   "source": []
  },
  {
   "cell_type": "code",
   "execution_count": null,
   "metadata": {},
   "outputs": [],
   "source": []
  },
  {
   "cell_type": "code",
   "execution_count": 3,
   "metadata": {},
   "outputs": [],
   "source": [
    "#Spark ALS Mod\n",
    "df=spark.read.csv('/root/datasets/FYP/O/agg/ratings/*.csv',inferSchema=True,header=True)\n",
    "#df = df.na.drop(subset=[\"titleID\"])\n",
    "df = df.drop('r_type')\n",
    "\n",
    "\n",
    "df_save = df.select('userID').distinct()\n",
    "df_save = df_save.rdd\n",
    "df_save = df_save.zipWithIndex()\n",
    "df_save = df_save.toDF()\n",
    "df_save = df_save.withColumn(\"_2\", df_save[\"_2\"].cast(\"integer\"))\n",
    "df_save = df_save.withColumn(\"_1\", df_save[\"_1\"].cast(\"string\"))\n",
    "\n",
    "def rem(x):\n",
    "    return x[1:-1]\n",
    "\n",
    "\n",
    "setter=udf(rem,StringType())\n",
    "df_lay = df_save.withColumn('_1',setter(df_save._1))\n",
    "\n",
    "df_lay \\\n",
    "   .repartition(1) \\\n",
    "   .write.format(\"com.databricks.spark.csv\") \\\n",
    "   .option(\"header\", \"true\")  \\\n",
    "   .save(\"/root/datasets/FYP/O/agg/string\")\n",
    "\n",
    "\n",
    "\n"
   ]
  },
  {
   "cell_type": "code",
   "execution_count": 4,
   "metadata": {},
   "outputs": [],
   "source": [
    "\n",
    "#Creating a lookup for movieID to TMDB movie ID.\n",
    "#Loading reference file and storing it as a python dict obj\n",
    "with open('/root/datasets/FYP/O/agg/string.csv', mode='r') as infile:\n",
    "    reader = csv.reader(infile)\n",
    "    with open('coors_new.csv', mode='w') as outfile:\n",
    "        writer = csv.writer(outfile)\n",
    "        mydict = {rows[0]:rows[1] for rows in reader}\n",
    "\n",
    "        \n",
    "        \n",
    "\n",
    "def get_ID(x):\n",
    "    a = mydict[x]\n",
    "    return a\n",
    "\n",
    "get=udf(get_ID,StringType())\n",
    "df_ = df.withColumn('userIDint',get(df.userID))\n",
    "df_ = df_.withColumn(\"userIDint\", df_[\"userIDint\"].cast(\"integer\"))\n",
    "df_ \\\n",
    "   .repartition(1) \\\n",
    "   .write.format(\"com.databricks.spark.csv\") \\\n",
    "   .option(\"header\", \"true\")  \\\n",
    "   .save(\"/root/datasets/FYP/O/agg/ratingsmod\")"
   ]
  },
  {
   "cell_type": "code",
   "execution_count": 41,
   "metadata": {},
   "outputs": [
    {
     "data": {
      "text/plain": [
       "1026715"
      ]
     },
     "execution_count": 41,
     "metadata": {},
     "output_type": "execute_result"
    }
   ],
   "source": [
    "#mydict\n",
    "df.count()"
   ]
  },
  {
   "cell_type": "code",
   "execution_count": 35,
   "metadata": {},
   "outputs": [
    {
     "name": "stdout",
     "output_type": "stream",
     "text": [
      "+--------------------+-------+------+---------+\n",
      "|              userID|titleID|rating|userIDint|\n",
      "+--------------------+-------+------+---------+\n",
      "|8e7cebf9a234c064b...|    862|    10|      731|\n",
      "|8e7cebf9a234c064b...|   8844|     8|      731|\n",
      "|8e7cebf9a234c064b...|  15602|     8|      731|\n",
      "|8e7cebf9a234c064b...|  11862|    10|      731|\n",
      "|8e7cebf9a234c064b...|    949|     8|      731|\n",
      "+--------------------+-------+------+---------+\n",
      "only showing top 5 rows\n",
      "\n"
     ]
    }
   ],
   "source": [
    "#ALS refined dataset\n",
    "dfd=spark.read.csv('/root/datasets/FYP/O/agg/ratingsmod/*.csv',inferSchema=True,header=True)\n",
    "dfd.show(5)"
   ]
  },
  {
   "cell_type": "code",
   "execution_count": 3,
   "metadata": {},
   "outputs": [
    {
     "data": {
      "text/plain": [
       "<bound method DataFrame.summary of DataFrame[userID: string, titleID: int, rating: int, userIDint: int]>"
      ]
     },
     "execution_count": 3,
     "metadata": {},
     "output_type": "execute_result"
    }
   ],
   "source": [
    "dfd.summary"
   ]
  },
  {
   "cell_type": "code",
   "execution_count": 4,
   "metadata": {},
   "outputs": [],
   "source": []
  },
  {
   "cell_type": "code",
   "execution_count": 26,
   "metadata": {},
   "outputs": [],
   "source": []
  },
  {
   "cell_type": "code",
   "execution_count": 15,
   "metadata": {},
   "outputs": [
    {
     "data": {
      "text/plain": [
       "DataFrame[userID: string, titleID: int, rating: int, userIDint: int]"
      ]
     },
     "execution_count": 15,
     "metadata": {},
     "output_type": "execute_result"
    }
   ],
   "source": [
    "(training, test) = dfd.randomSplit([0.8, 0.2])\n",
    "training.cache()"
   ]
  },
  {
   "cell_type": "code",
   "execution_count": null,
   "metadata": {},
   "outputs": [],
   "source": []
  },
  {
   "cell_type": "code",
   "execution_count": 47,
   "metadata": {},
   "outputs": [],
   "source": [
    "# Load and parse the data\n",
    "from pyspark.ml.evaluation import RegressionEvaluator\n",
    "from pyspark.ml.recommendation import ALS, ALSModel\n",
    "from pyspark.sql import Row\n",
    "it = 0\n",
    "rmse=[]\n",
    "k = [[10,10,1],[25,15,0.01],[5,5,1],[15,25,1],[5,25,0.001]]\n",
    "for x in k:\n",
    "    # Build the recommendation model using ALS on the training data\n",
    "    als = ALS(rank=x[0],maxIter=x[1], regParam=x[2], userCol=\"userIDint\", itemCol=\"titleID\", ratingCol=\"rating\")\n",
    "    model = als.fit(training)\n",
    "\n",
    "    # Evaluate the model by computing the RMSE on the test data\n",
    "    predictions = model.transform(test)\n",
    "    evaluator = RegressionEvaluator(metricName=\"rmse\", labelCol=\"rating\",\n",
    "                                    predictionCol=\"prediction\")\n",
    "    rmse.append( evaluator.evaluate(predictions))\n",
    "    it = it + 1"
   ]
  },
  {
   "cell_type": "code",
   "execution_count": 7,
   "metadata": {},
   "outputs": [
    {
     "data": {
      "image/png": "[encoded data removed]",
      "text/plain": [
       "<Figure size 432x288 with 1 Axes>"
      ]
     },
     "metadata": {
      "needs_background": "light"
     },
     "output_type": "display_data"
    }
   ],
   "source": [
    "import matplotlib.pyplot as plt\n",
    "plt.plot([1, 2, 3, 4,5], rmse)\n",
    "plt.ylabel('RMSE')\n",
    "plt.xlabel('Iteratins')\n",
    "\n",
    "plt.show()"
   ]
  },
  {
   "cell_type": "code",
   "execution_count": 11,
   "metadata": {},
   "outputs": [
    {
     "name": "stdout",
     "output_type": "stream",
     "text": [
      "RMSE = 1.6579999544\n"
     ]
    }
   ],
   "source": [
    "from pyspark.ml.evaluation import RegressionEvaluator\n",
    "from pyspark.ml.recommendation import ALS\n",
    "from pyspark.sql import Row\n",
    "# Build the recommendation model using ALS on the training data\n",
    "als = ALS(rank=10,maxIter=20, regParam=0.1, userCol=\"userIDint\", itemCol=\"titleID\", ratingCol=\"rating\",coldStartStrategy=\"drop\")\n",
    "model = als.fit(training)\n",
    "\n",
    "# Evaluate the model by computing the RMSE on the test data\n",
    "predictions = model.transform(test)\n",
    "evaluator = RegressionEvaluator(metricName=\"rmse\", labelCol=\"rating\",\n",
    "                                predictionCol=\"prediction\")\n",
    "rmse=evaluator.evaluate(predictions)\n",
    "print(\"RMSE = \" + str(rmse))\n"
   ]
  },
  {
   "cell_type": "code",
   "execution_count": 88,
   "metadata": {},
   "outputs": [],
   "source": [
    "#ALSModel.save(\"/root/datasets/FYP/O/agg/models/main\")"
   ]
  },
  {
   "cell_type": "code",
   "execution_count": 53,
   "metadata": {},
   "outputs": [],
   "source": [
    "\n",
    "model = ALSModel.load(\"/root/datasets/FYP/O/agg/models/main\")"
   ]
  },
  {
   "cell_type": "code",
   "execution_count": 18,
   "metadata": {},
   "outputs": [
    {
     "name": "stdout",
     "output_type": "stream",
     "text": [
      "+--------------------+-------+------+---------+----------+\n",
      "|              userID|titleID|rating|userIDint|prediction|\n",
      "+--------------------+-------+------+---------+----------+\n",
      "|b54372490fb6e3cca...|    148|     2|      332| 2.5166857|\n",
      "|7ffab5e3c02484685...|    148|     4|     1059| 6.4699097|\n",
      "|0f741cad145cb26ec...|    148|     6|      922| 6.2236276|\n",
      "|c7da3af93e28b6083...|    148|     8|       69| 7.6961346|\n",
      "|13c4e10a9e5409b8a...|    496|     8|     1342|  7.044288|\n",
      "|f7c8ab67deafad75f...|    496|     6|     1084| 5.4470043|\n",
      "|46ea756aec37d8e06...|    496|     8|     1322|  8.113064|\n",
      "|318b8b8173dbe0882...|    496|     8|      458|  5.900587|\n",
      "|872232ae22400781c...|    496|     2|      472|  4.430376|\n",
      "|46286f683f8cb3eb7...|    496|     6|      211| 3.9567454|\n",
      "|b6648870eb61ee8a7...|    496|    10|     1051|  5.683789|\n",
      "|09c249d552a0a3fab...|    496|     2|      412|  5.071378|\n",
      "|9d2edc56b4025427f...|    496|     6|     1030|  5.627977|\n",
      "|e8525624725a0bed6...|    496|     6|     1752|   5.41145|\n",
      "|6cb1897a2a04a64e7...|    496|     8|      988|   5.88274|\n",
      "|b6a8cb7e55cbf2c1b...|    496|     8|     1574|  5.467983|\n",
      "|b54372490fb6e3cca...|    496|     2|      332|  4.863084|\n",
      "|b9a930cf08372e698...|    496|    10|     1294| 6.3311605|\n",
      "|6a9fcadba9e29bbef...|    496|     8|       44| 5.5800934|\n",
      "|ea82098ce3df3b010...|    496|     8|     1046|  5.023198|\n",
      "+--------------------+-------+------+---------+----------+\n",
      "only showing top 20 rows\n",
      "\n"
     ]
    }
   ],
   "source": [
    "predictions.show(20)"
   ]
  },
  {
   "cell_type": "code",
   "execution_count": 11,
   "metadata": {},
   "outputs": [
    {
     "ename": "AttributeError",
     "evalue": "'str' object has no attribute 'asc'",
     "output_type": "error",
     "traceback": [
      "\u001b[0;31m---------------------------------------------------------------------------\u001b[0m",
      "\u001b[0;31mAttributeError\u001b[0m                            Traceback (most recent call last)",
      "\u001b[0;32m<ipython-input-11-7c6b9e12cbcb>\u001b[0m in \u001b[0;36m<module>\u001b[0;34m\u001b[0m\n\u001b[0;32m----> 1\u001b[0;31m \u001b[0mpredictions\u001b[0m\u001b[0;34m.\u001b[0m\u001b[0morderBy\u001b[0m\u001b[0;34m(\u001b[0m\u001b[0;34m(\u001b[0m\u001b[0;34m\"rating\"\u001b[0m\u001b[0;34m)\u001b[0m\u001b[0;34m.\u001b[0m\u001b[0masc\u001b[0m\u001b[0;34m(\u001b[0m\u001b[0;34m)\u001b[0m\u001b[0;34m)\u001b[0m\u001b[0;34m\u001b[0m\u001b[0;34m\u001b[0m\u001b[0m\n\u001b[0m",
      "\u001b[0;31mAttributeError\u001b[0m: 'str' object has no attribute 'asc'"
     ]
    }
   ],
   "source": [
    "predictions.orderBy((\"rating\").asc())"
   ]
  },
  {
   "cell_type": "code",
   "execution_count": 30,
   "metadata": {},
   "outputs": [],
   "source": [
    "get=model.recommendForAllUsers(10)"
   ]
  },
  {
   "cell_type": "code",
   "execution_count": 36,
   "metadata": {},
   "outputs": [],
   "source": [
    "store=get.select('userIDint','recommendations.titleID')"
   ]
  },
  {
   "cell_type": "code",
   "execution_count": 38,
   "metadata": {},
   "outputs": [
    {
     "name": "stdout",
     "output_type": "stream",
     "text": [
      "+---------+--------------------+\n",
      "|userIDint|             titleID|\n",
      "+---------+--------------------+\n",
      "|     1580|[473984, 44992, 1...|\n",
      "|      471|[41504, 81365, 14...|\n",
      "+---------+--------------------+\n",
      "only showing top 2 rows\n",
      "\n"
     ]
    }
   ],
   "source": [
    "store.show(2)"
   ]
  },
  {
   "cell_type": "code",
   "execution_count": 40,
   "metadata": {},
   "outputs": [],
   "source": [
    "store = store.withColumn(\"titleID\", store[\"titleID\"].cast(\"string\"))\n"
   ]
  },
  {
   "cell_type": "code",
   "execution_count": 42,
   "metadata": {},
   "outputs": [],
   "source": [
    "store \\\n",
    "   .repartition(1) \\\n",
    "   .write.format(\"com.databricks.spark.csv\") \\\n",
    "   .option(\"header\", \"true\")  \\\n",
    "   .save(\"/root/datasets/FYP/O/agg/prerat\")"
   ]
  },
  {
   "cell_type": "code",
   "execution_count": 59,
   "metadata": {},
   "outputs": [],
   "source": []
  },
  {
   "cell_type": "code",
   "execution_count": null,
   "metadata": {},
   "outputs": [],
   "source": []
  },
  {
   "cell_type": "code",
   "execution_count": 40,
   "metadata": {},
   "outputs": [],
   "source": [
    "#Add Clusters\n",
    "with open('/root/datasets/FYP/O/agg/clusters.csv', mode='r') as infile:\n",
    "    reader = csv.reader(infile)\n",
    "    with open('coors_new.csv', mode='w') as outfile:\n",
    "        writer = csv.writer(outfile)\n",
    "        mydict = {rows[0]:rows[1] for rows in reader}\n",
    "\n",
    "        \n",
    "\n",
    "def get_ID(x):\n",
    "    a = mydict.get(x,'0')\n",
    "    return a\n",
    "\n",
    "get=udf(get_ID,StringType())\n",
    "df_0 = dfd.withColumn('cluster',get(dfd.userID))\n",
    "        \n"
   ]
  },
  {
   "cell_type": "code",
   "execution_count": 41,
   "metadata": {},
   "outputs": [
    {
     "data": {
      "text/plain": [
       "<bound method DataFrame.summary of DataFrame[userID: string, titleID: int, rating: int, userIDint: int, cluster: string]>"
      ]
     },
     "execution_count": 41,
     "metadata": {},
     "output_type": "execute_result"
    }
   ],
   "source": [
    "df_0.summary"
   ]
  },
  {
   "cell_type": "code",
   "execution_count": 42,
   "metadata": {},
   "outputs": [
    {
     "data": {
      "text/plain": [
       "1026715"
      ]
     },
     "execution_count": 42,
     "metadata": {},
     "output_type": "execute_result"
    }
   ],
   "source": [
    "df_0.count()"
   ]
  },
  {
   "cell_type": "code",
   "execution_count": 43,
   "metadata": {},
   "outputs": [
    {
     "data": {
      "text/plain": [
       "389317"
      ]
     },
     "execution_count": 43,
     "metadata": {},
     "output_type": "execute_result"
    }
   ],
   "source": [
    "df_0.select('userIDint','titleID','rating').filter('cluster == 0').count()"
   ]
  },
  {
   "cell_type": "code",
   "execution_count": 44,
   "metadata": {},
   "outputs": [],
   "source": [
    "c_0 = df_0.filter(df_0.cluster == '0')\n",
    "c_1= df_0.filter(df_0.cluster == '1')\n",
    "c_2 = df_0.filter(df_0.cluster == '2')\n"
   ]
  },
  {
   "cell_type": "code",
   "execution_count": 47,
   "metadata": {},
   "outputs": [
    {
     "data": {
      "text/plain": [
       "382696"
      ]
     },
     "execution_count": 47,
     "metadata": {},
     "output_type": "execute_result"
    }
   ],
   "source": [
    "c_2.count()"
   ]
  },
  {
   "cell_type": "code",
   "execution_count": 55,
   "metadata": {},
   "outputs": [
    {
     "data": {
      "text/plain": [
       "DataFrame[userID: string, titleID: int, rating: int, userIDint: int, cluster: string]"
      ]
     },
     "execution_count": 55,
     "metadata": {},
     "output_type": "execute_result"
    }
   ],
   "source": [
    "(train0, test0) = c_0.randomSplit([0.8, 0.2])\n",
    "(train1, test1) = c_1.randomSplit([0.8, 0.2])\n",
    "(train2, test2) = c_2.randomSplit([0.8, 0.2])\n",
    "train0.cache()\n"
   ]
  },
  {
   "cell_type": "code",
   "execution_count": 67,
   "metadata": {},
   "outputs": [
    {
     "name": "stdout",
     "output_type": "stream",
     "text": [
      "RMSE =  1.8136221989302894\n"
     ]
    }
   ],
   "source": [
    "\n",
    "from pyspark.ml.evaluation import RegressionEvaluator\n",
    "from pyspark.ml.recommendation import ALS\n",
    "from pyspark.sql import Row\n",
    "# Build the recommendation model using ALS on the training data\n",
    "als = ALS(rank=10,maxIter=10, regParam=0.1, userCol=\"userIDint\", itemCol=\"titleID\", ratingCol=\"rating\",coldStartStrategy=\"drop\")\n",
    "model = als.fit(train0)\n",
    "\n",
    "# Evaluate the model by computing the RMSE on the test data\n",
    "predictions = model.transform(test0)\n",
    "evaluator = RegressionEvaluator(metricName=\"rmse\", labelCol=\"rating\",\n",
    "                                predictionCol=\"prediction\")\n",
    "rmse=evaluator.evaluate(predictions)\n",
    "print('RMSE = ',str(rmse))\n"
   ]
  },
  {
   "cell_type": "code",
   "execution_count": 69,
   "metadata": {},
   "outputs": [],
   "source": [
    "get=model.recommendForAllUsers(10)\n",
    "store=get.select('userIDint','recommendations.titleID')\n",
    "store = store.withColumn(\"titleID\", store[\"titleID\"].cast(\"string\"))\n",
    "store \\\n",
    "   .repartition(1) \\\n",
    "   .write.format(\"com.databricks.spark.csv\") \\\n",
    "   .option(\"header\", \"true\")  \\\n",
    "   .save(\"/root/datasets/FYP/O/agg/c0\")"
   ]
  },
  {
   "cell_type": "code",
   "execution_count": 70,
   "metadata": {},
   "outputs": [
    {
     "name": "stdout",
     "output_type": "stream",
     "text": [
      "RMSE =  1.7896245995686275\n"
     ]
    }
   ],
   "source": [
    "train1.cache()\n",
    "\n",
    "from pyspark.ml.evaluation import RegressionEvaluator\n",
    "from pyspark.ml.recommendation import ALS\n",
    "from pyspark.sql import Row\n",
    "# Build the recommendation model using ALS on the training data\n",
    "als = ALS(rank=10,maxIter=10, regParam=0.1, userCol=\"userIDint\", itemCol=\"titleID\", ratingCol=\"rating\",coldStartStrategy=\"drop\")\n",
    "model = als.fit(train1)\n",
    "\n",
    "# Evaluate the model by computing the RMSE on the test data\n",
    "predictions = model.transform(test1)\n",
    "evaluator = RegressionEvaluator(metricName=\"rmse\", labelCol=\"rating\",\n",
    "                                predictionCol=\"prediction\")\n",
    "rmse=evaluator.evaluate(predictions)\n",
    "print('RMSE = ',str(rmse))\n"
   ]
  },
  {
   "cell_type": "code",
   "execution_count": 71,
   "metadata": {},
   "outputs": [],
   "source": [
    "get=model.recommendForAllUsers(10)\n",
    "store=get.select('userIDint','recommendations.titleID')\n",
    "store = store.withColumn(\"titleID\", store[\"titleID\"].cast(\"string\"))\n",
    "store \\\n",
    "   .repartition(1) \\\n",
    "   .write.format(\"com.databricks.spark.csv\") \\\n",
    "   .option(\"header\", \"true\")  \\\n",
    "   .save(\"/root/datasets/FYP/O/agg/c1\")"
   ]
  },
  {
   "cell_type": "code",
   "execution_count": 72,
   "metadata": {},
   "outputs": [
    {
     "name": "stdout",
     "output_type": "stream",
     "text": [
      "RMSE =  1.7324192559667495\n"
     ]
    }
   ],
   "source": [
    "train2.cache()\n",
    "\n",
    "from pyspark.ml.evaluation import RegressionEvaluator\n",
    "from pyspark.ml.recommendation import ALS\n",
    "from pyspark.sql import Row\n",
    "# Build the recommendation model using ALS on the training data\n",
    "als = ALS(rank=10,maxIter=10, regParam=0.1, userCol=\"userIDint\", itemCol=\"titleID\", ratingCol=\"rating\",coldStartStrategy=\"drop\")\n",
    "model = als.fit(train2)\n",
    "\n",
    "# Evaluate the model by computing the RMSE on the test data\n",
    "predictions = model.transform(test2)\n",
    "evaluator = RegressionEvaluator(metricName=\"rmse\", labelCol=\"rating\",\n",
    "                                predictionCol=\"prediction\")\n",
    "rmse=evaluator.evaluate(predictions)\n",
    "print('RMSE = ',str(rmse))\n"
   ]
  },
  {
   "cell_type": "code",
   "execution_count": 73,
   "metadata": {},
   "outputs": [],
   "source": [
    "get=model.recommendForAllUsers(10)\n",
    "store=get.select('userIDint','recommendations.titleID')\n",
    "store = store.withColumn(\"titleID\", store[\"titleID\"].cast(\"string\"))\n",
    "store \\\n",
    "   .repartition(1) \\\n",
    "   .write.format(\"com.databricks.spark.csv\") \\\n",
    "   .option(\"header\", \"true\")  \\\n",
    "   .save(\"/root/datasets/FYP/O/agg/c2\")"
   ]
  },
  {
   "cell_type": "code",
   "execution_count": 83,
   "metadata": {},
   "outputs": [],
   "source": [
    "#FINALLLLLLLLLLY \n",
    "\n",
    "#Creating a lookup for movieID to TMDB movie ID.\n",
    "#Loading reference file and storing it as a python dict obj\n",
    "with open('/root/datasets/FYP/O/agg/string.csv', mode='r') as infile:\n",
    "    reader = csv.reader(infile)\n",
    "    with open('coors_new.csv', mode='w') as outfile:\n",
    "        writer = csv.writer(outfile)\n",
    "        mydict = {rows[1]:rows[0] for rows in reader}\n",
    "\n",
    "        "
   ]
  },
  {
   "cell_type": "code",
   "execution_count": 82,
   "metadata": {},
   "outputs": [],
   "source": [
    "frame = spark.read.csv('/root/datasets/FYP/O/agg/recommendations.csv',inferSchema=True,header=True)\n"
   ]
  },
  {
   "cell_type": "code",
   "execution_count": 86,
   "metadata": {},
   "outputs": [
    {
     "name": "stdout",
     "output_type": "stream",
     "text": [
      "+---------+--------------------+--------------------+\n",
      "|userIDint|             titleID|              userID|\n",
      "+---------+--------------------+--------------------+\n",
      "|     1580|[189227, 513434, ...|4cf755cd3340dcd26...|\n",
      "|      463|[209415, 92060, 3...|9506c5c93356b984b...|\n",
      "+---------+--------------------+--------------------+\n",
      "only showing top 2 rows\n",
      "\n"
     ]
    }
   ],
   "source": [
    "def get_ID(x):\n",
    "    x = str(x)\n",
    "    a = mydict[x]\n",
    "    return a\n",
    "\n",
    "get=udf(get_ID,StringType())\n",
    "df_ = frame.withColumn('userID',get(frame.userIDint))\n",
    "df_.show(2)"
   ]
  },
  {
   "cell_type": "code",
   "execution_count": 88,
   "metadata": {},
   "outputs": [
    {
     "data": {
      "text/plain": [
       "<bound method DataFrame.summary of DataFrame[userIDint: int, titleID: string, userID: string]>"
      ]
     },
     "execution_count": 88,
     "metadata": {},
     "output_type": "execute_result"
    }
   ],
   "source": []
  },
  {
   "cell_type": "code",
   "execution_count": 91,
   "metadata": {},
   "outputs": [],
   "source": [
    "#Creating a lookup for movieID to TMDB movie ID.\n",
    "#Loading reference file and storing it as a python dict obj\n",
    "with open('/root/datasets/FYP/email_userID_ref.csv', mode='r') as infile:\n",
    "    reader = csv.reader(infile)\n",
    "    with open('coors_new.csv', mode='w') as outfile:\n",
    "        writer = csv.writer(outfile)\n",
    "        mydict = {rows[0]:rows[1] for rows in reader}"
   ]
  },
  {
   "cell_type": "code",
   "execution_count": 93,
   "metadata": {},
   "outputs": [
    {
     "name": "stdout",
     "output_type": "stream",
     "text": [
      "+---------+--------------------+--------------------+\n",
      "|userIDint|             titleID|              userID|\n",
      "+---------+--------------------+--------------------+\n",
      "|     1580|[189227, 513434, ...|4cf755cd3340dcd26...|\n",
      "|      463|[209415, 92060, 3...|9506c5c93356b984b...|\n",
      "+---------+--------------------+--------------------+\n",
      "only showing top 2 rows\n",
      "\n"
     ]
    }
   ],
   "source": [
    "def get_ID(x):\n",
    "    a = mydict.get(x,'0')\n",
    "    return a\n",
    "\n",
    "get=udf(get_ID,StringType())\n",
    "df_final = df_.withColumn('email',get(df_.userID))\n"
   ]
  },
  {
   "cell_type": "code",
   "execution_count": 94,
   "metadata": {},
   "outputs": [
    {
     "name": "stdout",
     "output_type": "stream",
     "text": [
      "+---------+--------------------+--------------------+-----+\n",
      "|userIDint|             titleID|              userID|email|\n",
      "+---------+--------------------+--------------------+-----+\n",
      "|     1580|[189227, 513434, ...|4cf755cd3340dcd26...|    0|\n",
      "|      463|[209415, 92060, 3...|9506c5c93356b984b...|    0|\n",
      "+---------+--------------------+--------------------+-----+\n",
      "only showing top 2 rows\n",
      "\n"
     ]
    }
   ],
   "source": [
    "df_final.show(2)"
   ]
  },
  {
   "cell_type": "code",
   "execution_count": 103,
   "metadata": {},
   "outputs": [],
   "source": [
    "df_rec = df_final.filter(df_final.email != \"0\")"
   ]
  },
  {
   "cell_type": "code",
   "execution_count": 104,
   "metadata": {},
   "outputs": [
    {
     "name": "stdout",
     "output_type": "stream",
     "text": [
      "+---------+--------------------+--------------------+--------------------+\n",
      "|userIDint|             titleID|              userID|               email|\n",
      "+---------+--------------------+--------------------+--------------------+\n",
      "|     1721|[31602, 52780, 31...|bcf0c0d5-507a-405...|sales.riqba@gmail...|\n",
      "|      322|[116368, 299534, ...|8accd167-aa18-401...|syedaiqrafatima22...|\n",
      "|     1510|[44065, 25117, 40...|0b1ea2fd-d500-4b1...|Diamond.eyes599@g...|\n",
      "|     1489|[31602, 43774, 40...|36ad85f2-9642-471...|ahmedtahami@yahoo...|\n",
      "|      388|[189227, 14733, 1...|856ec5ce-218a-465...|arslaan.khan188@y...|\n",
      "|     1516|[189227, 26397, 2...|0332d4f4-b7fe-441...|wayahot322@ffeast...|\n",
      "|        6|[524047, 36056, 1...|a13eac83-399c-41f...| hamza.edu@yahoo.com|\n",
      "|       40|[14733, 92060, 26...|7de3db8e-673f-4b3...|manahilj0800@gmai...|\n",
      "|     1670|[758271, 12616, 1...|ad9c8e13-55a4-48c...|hammad.bhatti187@...|\n",
      "|        5|[31602, 189227, 2...|b267b427-551b-429...|saad_mir93@hotmai...|\n",
      "|     1271|[15383, 14733, 92...|89135573-7c58-4bc...|     ammar@gmail.com|\n",
      "|     1158|[31602, 43774, 52...|bb66ce0e-6060-4e0...|    123456@gmail.com|\n",
      "|      733|[441909, 24106, 1...|1248df4a-3f8f-41a...|mianabubakar13199...|\n",
      "|      166|[34038, 293950, 1...|<function uuid4 a...|17011065025@umt.e...|\n",
      "|     1704|[299534, 116368, ...|b11e22e5-c16a-47f...|abdulqadirgillani...|\n",
      "|     1042|[299534, 116368, ...|2ac7ca26-226f-47c...|helloshehzad@gmai...|\n",
      "|     1844|[42314, 12169, 41...|8f9d99bb-393c-402...|talha.cheema8@gma...|\n",
      "|     1571|[44065, 12169, 46...|959aa805-19ab-435...|salmanarif333@gma...|\n",
      "|      252|[30238, 341174, 4...|c7731490-f350-4be...|  razad431@gmail.com|\n",
      "|      475|[189227, 758271, ...|9fda1d44-3015-4c0...|talhamerza9@gmail...|\n",
      "+---------+--------------------+--------------------+--------------------+\n",
      "only showing top 20 rows\n",
      "\n"
     ]
    }
   ],
   "source": [
    "df_rec.show()"
   ]
  },
  {
   "cell_type": "code",
   "execution_count": 105,
   "metadata": {},
   "outputs": [],
   "source": [
    "columns_to_drop = ['userIDint', 'userID']\n",
    "df_rec = df_rec.drop(*columns_to_drop)"
   ]
  },
  {
   "cell_type": "code",
   "execution_count": 110,
   "metadata": {},
   "outputs": [
    {
     "name": "stdout",
     "output_type": "stream",
     "text": [
      "+--------------------+--------------------+\n",
      "|             titleID|               email|\n",
      "+--------------------+--------------------+\n",
      "|[31602, 52780, 31...|sales.riqba@gmail...|\n",
      "|[116368, 299534, ...|syedaiqrafatima22...|\n",
      "|[44065, 25117, 40...|Diamond.eyes599@g...|\n",
      "|[31602, 43774, 40...|ahmedtahami@yahoo...|\n",
      "|[189227, 14733, 1...|arslaan.khan188@y...|\n",
      "|[189227, 26397, 2...|wayahot322@ffeast...|\n",
      "|[524047, 36056, 1...| hamza.edu@yahoo.com|\n",
      "|[14733, 92060, 26...|manahilj0800@gmai...|\n",
      "|[758271, 12616, 1...|hammad.bhatti187@...|\n",
      "|[31602, 189227, 2...|saad_mir93@hotmai...|\n",
      "|[15383, 14733, 92...|     ammar@gmail.com|\n",
      "|[31602, 43774, 52...|    123456@gmail.com|\n",
      "|[441909, 24106, 1...|mianabubakar13199...|\n",
      "|[34038, 293950, 1...|17011065025@umt.e...|\n",
      "|[299534, 116368, ...|abdulqadirgillani...|\n",
      "|[299534, 116368, ...|helloshehzad@gmai...|\n",
      "|[42314, 12169, 41...|talha.cheema8@gma...|\n",
      "|[44065, 12169, 46...|salmanarif333@gma...|\n",
      "|[30238, 341174, 4...|  razad431@gmail.com|\n",
      "|[189227, 758271, ...|talhamerza9@gmail...|\n",
      "+--------------------+--------------------+\n",
      "only showing top 20 rows\n",
      "\n"
     ]
    }
   ],
   "source": [
    "df_rec.show()\n",
    "df_rec \\\n",
    "   .repartition(1) \\\n",
    "   .write.format(\"com.databricks.spark.csv\") \\\n",
    "   .option(\"header\", \"true\")  \\\n",
    "   .save(\"/root/datasets/FYP/O/agg/final\")"
   ]
  },
  {
   "cell_type": "code",
   "execution_count": 111,
   "metadata": {},
   "outputs": [],
   "source": [
    "#Creating a lookup for movieID to TMDB movie ID.\n",
    "#Loading reference file and storing it as a python dict obj\n",
    "with open('/root/datasets/FYP/O/agg/dynamodb_push.csv', mode='r') as infile:\n",
    "    reader = csv.reader(infile)\n",
    "    with open('coors_new.csv', mode='w') as outfile:\n",
    "        writer = csv.writer(outfile)\n",
    "        mydict = {rows[1]:rows[0] for rows in reader}"
   ]
  },
  {
   "cell_type": "code",
   "execution_count": 115,
   "metadata": {},
   "outputs": [],
   "source": [
    "li = mydict['sales.riqba@gmail.com']"
   ]
  },
  {
   "cell_type": "code",
   "execution_count": 125,
   "metadata": {},
   "outputs": [
    {
     "data": {
      "text/plain": [
       "'31602, 52780, 3173, 40440, 25117, 47447, 60843, 46230, 1481, 28971'"
      ]
     },
     "execution_count": 125,
     "metadata": {},
     "output_type": "execute_result"
    }
   ],
   "source": []
  },
  {
   "cell_type": "code",
   "execution_count": 119,
   "metadata": {},
   "outputs": [
    {
     "data": {
      "text/plain": [
       "'[31602, 52780, 3173, 40440, 25117, 47447, 60843, 46230, 1481, 28971]'"
      ]
     },
     "execution_count": 119,
     "metadata": {},
     "output_type": "execute_result"
    }
   ],
   "source": []
  },
  {
   "cell_type": "code",
   "execution_count": 126,
   "metadata": {},
   "outputs": [],
   "source": []
  },
  {
   "cell_type": "code",
   "execution_count": 128,
   "metadata": {},
   "outputs": [
    {
     "data": {
      "text/plain": [
       "'31602'"
      ]
     },
     "execution_count": 128,
     "metadata": {},
     "output_type": "execute_result"
    }
   ],
   "source": []
  },
  {
   "cell_type": "code",
   "execution_count": 138,
   "metadata": {},
   "outputs": [],
   "source": [
    "for x in mydict:\n",
    "    li =mydict[x]\n",
    "    li = li[1:-1]\n",
    "    result = [x.strip() for x in li.split(',')]\n",
    "    mydict[x] = result\n",
    "    del li\n",
    "    del result"
   ]
  },
  {
   "cell_type": "code",
   "execution_count": 157,
   "metadata": {},
   "outputs": [],
   "source": [
    "#Pull Date Dec 2 1030 AM\n",
    "\n",
    "#Dynamodb Handeler to connect to \"FindMyMovie\" table.\n",
    "import boto3\n",
    "from boto3.dynamodb.conditions import Key, Attr\n",
    "from botocore.exceptions import ClientError\n",
    "import botocore\n",
    "\n",
    "\n",
    "class   dynamodb_FindMyMovies():\n",
    "    def __init__(self):\n",
    "        # Get the service resource.\n",
    "        self.dynamodb = ''#boto3.resource('dynamodb',endpoint_url='http://localhost:8000')\n",
    "        self.table = ''#dynamodb.Table('Your Table')\n",
    "        \n",
    "\n",
    "    def check_state(self):\n",
    "        try:\n",
    "            self.dynamodb= boto3.resource('dynamodb',region_name='us-east-1',aws_access_key_id=\"Your key\",aws_secret_access_key=\"Your Keys\")\n",
    "            self.table= self.dynamodb.Table('Your Table')\n",
    "            print(self.table.creation_date_time)\n",
    "            return 0\n",
    "        \n",
    "        except botocore.exceptions.ParamValidationError as e:\n",
    "            print(e)\n",
    "        except:\n",
    "            print(\"Couldn't connect with Database or Table\")\n",
    "            return 1\n",
    "        \n",
    "    def write_recs(self, email,data):\n",
    "            try:\n",
    "\n",
    "\n",
    "                #Putting recommendations\n",
    "                state = self.check_state()\n",
    "                if (state == 0):\n",
    "                    response = self.table.put_item(\n",
    "                    Item={\n",
    "                    'email': email,\n",
    "                    'r_type': 'rec',\n",
    "                    'r0': data[0],\n",
    "                    'r1' : data[1],\n",
    "                    'r2' : data[2],\n",
    "                    'r3' : data[3],\n",
    "                    'r4' : data[4],\n",
    "                    'r5' : data[5],\n",
    "                    'r6' : data[6],\n",
    "                    'r7' : data[7],\n",
    "                    'r8' : data[8],\n",
    "                    'r9' : data[9],\n",
    "                        \n",
    "                        }\n",
    "                    )\n",
    "                return 0\n",
    "\n",
    "            except ClientError as e:\n",
    "                if e.response['Error']['Message'] == 'The conditional request failed':\n",
    "                    return 'Email Already Exists'\n",
    "            except:\n",
    "                return \"Signup procedure error\"\n",
    "\n",
    "    def read_recs(self,email):\n",
    "        try:\n",
    "            #Putting login credentials\n",
    "            state = self.check_state()\n",
    "            if( state == 0):\n",
    "                response = self.table.get_item(Key={\n",
    "                    'email' : email,\n",
    "                    'r_type': 'rec'\n",
    "                })\n",
    "                \n",
    "                check = response[\"Item\"]\n",
    "\n",
    "                return response[\"Item\"]['r0'],response[\"Item\"]['r1'],response[\"Item\"]['r2'],response[\"Item\"]['r3'],response[\"Item\"]['r4'],response[\"Item\"]['r5'],response[\"Item\"]['r6'],response[\"Item\"]['r7'],response[\"Item\"]['r8'],response[\"Item\"]['r9']\n",
    "                    \n",
    "\n",
    "        except ClientError as e:\n",
    "            return e.response['Error']['Message']\n",
    "        \n",
    "        except:\n",
    "            return \"Email Doesn't Exits\"\n",
    "            "
   ]
  },
  {
   "cell_type": "code",
   "execution_count": 154,
   "metadata": {},
   "outputs": [
    {
     "name": "stdout",
     "output_type": "stream",
     "text": [
      "2020-10-15 15:02:35.566000-04:00\n",
      "2020-10-15 15:02:35.566000-04:00\n",
      "2020-10-15 15:02:35.566000-04:00\n",
      "2020-10-15 15:02:35.566000-04:00\n",
      "2020-10-15 15:02:35.566000-04:00\n",
      "2020-10-15 15:02:35.566000-04:00\n",
      "2020-10-15 15:02:35.566000-04:00\n",
      "2020-10-15 15:02:35.566000-04:00\n",
      "2020-10-15 15:02:35.566000-04:00\n",
      "2020-10-15 15:02:35.566000-04:00\n",
      "2020-10-15 15:02:35.566000-04:00\n",
      "2020-10-15 15:02:35.566000-04:00\n",
      "2020-10-15 15:02:35.566000-04:00\n",
      "2020-10-15 15:02:35.566000-04:00\n",
      "2020-10-15 15:02:35.566000-04:00\n",
      "2020-10-15 15:02:35.566000-04:00\n",
      "2020-10-15 15:02:35.566000-04:00\n",
      "2020-10-15 15:02:35.566000-04:00\n",
      "2020-10-15 15:02:35.566000-04:00\n",
      "2020-10-15 15:02:35.566000-04:00\n",
      "2020-10-15 15:02:35.566000-04:00\n",
      "2020-10-15 15:02:35.566000-04:00\n",
      "2020-10-15 15:02:35.566000-04:00\n",
      "2020-10-15 15:02:35.566000-04:00\n",
      "2020-10-15 15:02:35.566000-04:00\n",
      "2020-10-15 15:02:35.566000-04:00\n",
      "2020-10-15 15:02:35.566000-04:00\n",
      "2020-10-15 15:02:35.566000-04:00\n",
      "2020-10-15 15:02:35.566000-04:00\n",
      "2020-10-15 15:02:35.566000-04:00\n",
      "2020-10-15 15:02:35.566000-04:00\n",
      "2020-10-15 15:02:35.566000-04:00\n",
      "2020-10-15 15:02:35.566000-04:00\n",
      "2020-10-15 15:02:35.566000-04:00\n",
      "2020-10-15 15:02:35.566000-04:00\n",
      "2020-10-15 15:02:35.566000-04:00\n",
      "2020-10-15 15:02:35.566000-04:00\n",
      "2020-10-15 15:02:35.566000-04:00\n",
      "2020-10-15 15:02:35.566000-04:00\n",
      "2020-10-15 15:02:35.566000-04:00\n",
      "2020-10-15 15:02:35.566000-04:00\n",
      "2020-10-15 15:02:35.566000-04:00\n",
      "2020-10-15 15:02:35.566000-04:00\n",
      "2020-10-15 15:02:35.566000-04:00\n",
      "2020-10-15 15:02:35.566000-04:00\n",
      "2020-10-15 15:02:35.566000-04:00\n",
      "2020-10-15 15:02:35.566000-04:00\n",
      "2020-10-15 15:02:35.566000-04:00\n",
      "2020-10-15 15:02:35.566000-04:00\n",
      "2020-10-15 15:02:35.566000-04:00\n",
      "2020-10-15 15:02:35.566000-04:00\n",
      "2020-10-15 15:02:35.566000-04:00\n",
      "2020-10-15 15:02:35.566000-04:00\n",
      "2020-10-15 15:02:35.566000-04:00\n",
      "2020-10-15 15:02:35.566000-04:00\n",
      "2020-10-15 15:02:35.566000-04:00\n",
      "2020-10-15 15:02:35.566000-04:00\n",
      "2020-10-15 15:02:35.566000-04:00\n",
      "2020-10-15 15:02:35.566000-04:00\n",
      "2020-10-15 15:02:35.566000-04:00\n",
      "2020-10-15 15:02:35.566000-04:00\n",
      "2020-10-15 15:02:35.566000-04:00\n",
      "2020-10-15 15:02:35.566000-04:00\n",
      "2020-10-15 15:02:35.566000-04:00\n",
      "2020-10-15 15:02:35.566000-04:00\n",
      "2020-10-15 15:02:35.566000-04:00\n",
      "2020-10-15 15:02:35.566000-04:00\n",
      "2020-10-15 15:02:35.566000-04:00\n",
      "2020-10-15 15:02:35.566000-04:00\n",
      "2020-10-15 15:02:35.566000-04:00\n",
      "2020-10-15 15:02:35.566000-04:00\n",
      "2020-10-15 15:02:35.566000-04:00\n",
      "2020-10-15 15:02:35.566000-04:00\n",
      "2020-10-15 15:02:35.566000-04:00\n",
      "2020-10-15 15:02:35.566000-04:00\n",
      "2020-10-15 15:02:35.566000-04:00\n",
      "2020-10-15 15:02:35.566000-04:00\n",
      "2020-10-15 15:02:35.566000-04:00\n",
      "2020-10-15 15:02:35.566000-04:00\n",
      "2020-10-15 15:02:35.566000-04:00\n",
      "2020-10-15 15:02:35.566000-04:00\n",
      "2020-10-15 15:02:35.566000-04:00\n",
      "2020-10-15 15:02:35.566000-04:00\n",
      "2020-10-15 15:02:35.566000-04:00\n"
     ]
    }
   ],
   "source": [
    "r1 = dynamodb_FindMyMovies()\n",
    "for x in mydict:\n",
    "    email = x\n",
    "    data = mydict[x]\n",
    "    r1.write_recs(email,data)"
   ]
  },
  {
   "cell_type": "code",
   "execution_count": 159,
   "metadata": {},
   "outputs": [
    {
     "name": "stdout",
     "output_type": "stream",
     "text": [
      "2020-10-15 15:02:35.566000-04:00\n"
     ]
    }
   ],
   "source": [
    "r2 = dynamodb_FindMyMovies()\n",
    "a,b,c,d,e,f,g,h,i,j=r2.read_recs('17011065025@umt.edu.pk')"
   ]
  },
  {
   "cell_type": "code",
   "execution_count": 160,
   "metadata": {},
   "outputs": [
    {
     "name": "stdout",
     "output_type": "stream",
     "text": [
      "34038 293950 12456 49133 56616 42881 441909 12901 24657 692\n"
     ]
    }
   ],
   "source": [
    "print(a,b,c,d,e,f,g,h,i,j)"
   ]
  },
  {
   "cell_type": "code",
   "execution_count": null,
   "metadata": {},
   "outputs": [],
   "source": []
  }
 ],
 "metadata": {
  "kernelspec": {
   "display_name": "Python 3",
   "language": "python",
   "name": "python3"
  },
  "language_info": {
   "codemirror_mode": {
    "name": "ipython",
    "version": 3
   },
   "file_extension": ".py",
   "mimetype": "text/x-python",
   "name": "python",
   "nbconvert_exporter": "python",
   "pygments_lexer": "ipython3",
   "version": "3.7.9"
  }
 },
 "nbformat": 4,
 "nbformat_minor": 4
}
